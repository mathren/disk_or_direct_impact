{
 "cells": [
  {
   "cell_type": "markdown",
   "metadata": {},
   "source": [
    "# Study parameter space for direct accretion or disk in binaries\n",
    "author: [Mathieu Renzo](mailto:mrenzo@flatironinstitute.org)"
   ]
  },
  {
   "cell_type": "code",
   "execution_count": null,
   "metadata": {},
   "outputs": [],
   "source": [
    "import numpy as np"
   ]
  },
  {
   "cell_type": "code",
   "execution_count": null,
   "metadata": {},
   "outputs": [],
   "source": [
    "import sys\n",
    "sys.path.append('/home/math/Documents/Research/codes/plotFunc/')\n",
    "from plot_defaults import *"
   ]
  },
  {
   "cell_type": "code",
   "execution_count": null,
   "metadata": {},
   "outputs": [],
   "source": [
    "set_plot_defaults_from_matplotlibrc('/home/math/Documents/Research/codes/plotFunc/')"
   ]
  },
  {
   "cell_type": "code",
   "execution_count": null,
   "metadata": {},
   "outputs": [],
   "source": [
    "def Rmin_lubow_shu75(sep, Macc, Mdonor):\n",
    "    \"\"\" Returns the minimum radial distance from the accretor of the RLOF stream, the\n",
    "    formula os the fit from Ulrich & Burger 1976 to the simulations of Lubow & Shu 1975.\n",
    "    \n",
    "    if the number returned is smaller than the accretor radius: direct impact\n",
    "    \"\"\"\n",
    "    q = Macc/Mdonor\n",
    "    return 0.00425*sep*(q+q**2)**0.25"
   ]
  },
  {
   "cell_type": "code",
   "execution_count": null,
   "metadata": {},
   "outputs": [],
   "source": [
    "def get_R_from_mass_radius_rel(M, exp=0.6):\n",
    "    \"\"\" Rough mass-radius R = Rsun (M/Msun)^exp relation for main sequence massive stars\n",
    "    Note that this assumes polytropic homogeneous stars\n",
    "    \n",
    "    Parameters:\n",
    "    ----------\n",
    "    M: `float` or np.array, mass of the star in Msun units\n",
    "    exp: `float` exponent, default to approximate value for massive stars\n",
    "\n",
    "    Returns:\n",
    "    -------\n",
    "    radius: `float` or np.array in Rsun units\n",
    "    \"\"\"\n",
    "    return M**exp\n",
    "\n",
    "    "
   ]
  },
  {
   "cell_type": "code",
   "execution_count": null,
   "metadata": {},
   "outputs": [],
   "source": [
    "def get_R_RLOF(a, q):\n",
    "    \"\"\"\n",
    "    Eggleton 1983 formula for Roche size\n",
    "    \"\"\"\n",
    "    return a*(0.49*q**(2/3.)/(0.6*q**(2/3.)+np.log(1+q**(1/3.))))"
   ]
  },
  {
   "cell_type": "code",
   "execution_count": null,
   "metadata": {},
   "outputs": [],
   "source": [
    "# plot mass-radius relation\n",
    "fig = plt.figure()\n",
    "gs = gridspec.GridSpec(120, 100)\n",
    "ax = fig.add_subplot(gs[:,:])\n",
    "\n",
    "# low mass stars\n",
    "m = np.linspace(0.2,1.4, 20)\n",
    "r = get_R_from_mass_radius_rel(m, exp=0.9)\n",
    "ax.plot(np.log10(m), np.log10(r))\n",
    "# massive stars\n",
    "m = np.linspace(1.4, 30, 20)\n",
    "r = get_R_from_mass_radius_rel(m)\n",
    "ax.plot(np.log10(m), np.log10(r))\n",
    "\n",
    "ax.set_xlabel(r'$\\log_{10}(M/M_\\odot)$')\n",
    "ax.set_ylabel(r'$\\log_{10}(R/R_\\odot)$')"
   ]
  },
  {
   "cell_type": "code",
   "execution_count": null,
   "metadata": {},
   "outputs": [],
   "source": [
    "def disk_or_hit_no_R2_evol(M1=35, N=50, fig_name=None):\n",
    "    \"\"\"\n",
    "    Plot the parameter space for disk vs. direct accretion using a mass-radius relation for the accretor, so no R2(t) evolution\n",
    "\n",
    "    Parameters:\n",
    "    ----------\n",
    "    N: `int`, resolution\n",
    "    M1: `float`, primary mass\n",
    "    fig_name: `str` or None, path to where to save the plot, optional\n",
    "    \"\"\"\n",
    "    fig = plt.figure()\n",
    "    gs = gridspec.GridSpec(120, 100)\n",
    "    ax = fig.add_subplot(gs[:,:])    \n",
    "    ax.set_title(r\"$M_1 = \"+f\"{M1:.0f}\"+\"M_\\odot$\", size=30)\n",
    "\n",
    "    mass_ratio = np.linspace(0.001, 1, N)\n",
    "    sep = np.linspace(0.1, 2000, N)\n",
    "    direct_hit= -1.0*np.ones((N,N))\n",
    "\n",
    "    for i, q in np.ndenumerate(mass_ratio):\n",
    "        for j, a in np.ndenumerate(sep):\n",
    "            Rmin = Rmin_lubow_shu75(a, q*M1, M1)\n",
    "            if q*M1<=1.4:\n",
    "                exp = 0.9\n",
    "            else:\n",
    "                exp = 0.6\n",
    "            R2 = get_R_from_mass_radius_rel(q*M1, exp=exp)\n",
    "            if Rmin/R2 > 1:\n",
    "                direct_hit[i,j] = 0 #False\n",
    "            else:\n",
    "                direct_hit[i,j] = 1 #True\n",
    "    cmap = mpl.colors.ListedColormap(['b','r'])\n",
    "    ax.pcolormesh(sep, mass_ratio, direct_hit, cmap=cmap)    \n",
    "    # ax.scatter(sep, mass_ratio, c=z, s=500)\n",
    "    ax.contour(sep, mass_ratio, direct_hit,[0.5], lw=3)\n",
    "\n",
    "    ax.set_ylim(0,1)\n",
    "    ax.set_xlim(min(sep), max(sep))\n",
    "    \n",
    "    ax.text(0.1,0.9, \"Direct impact\", fontsize=30, va=\"center\", ha=\"left\",\n",
    "            bbox=dict(facecolor='w', edgecolor='black', alpha=0.75,\n",
    "                      boxstyle='round,pad=0.1'), transform=ax.transAxes, zorder=10)\n",
    "    ax.text(0.9,0.1, \"Disk\", fontsize=30, va=\"center\", ha=\"right\",\n",
    "            bbox=dict(facecolor='w', edgecolor='black', alpha=0.75,\n",
    "                      boxstyle='round,pad=0.1'), transform=ax.transAxes, zorder=10)\n",
    "    \n",
    "    ax.set_xlabel(r\"separation [$R_\\odot$]\")\n",
    "    ax.set_ylabel(r\"mass ratio $q=M_2/M_1$\")\n",
    "\n",
    "    if fig_name:\n",
    "        plt.savefig(fig_name) #'disk_or_no_disk_'+f'{M1:.0f}'+'.pdf')"
   ]
  },
  {
   "cell_type": "code",
   "execution_count": null,
   "metadata": {},
   "outputs": [],
   "source": [
    "disk_or_hit_no_R2_evol(M1=35, N=400, fig_name='fig_slides/disk_or_no_disk_35.pdf')"
   ]
  },
  {
   "cell_type": "code",
   "execution_count": null,
   "metadata": {},
   "outputs": [],
   "source": [
    "# now multiple M1 per plot\n",
    "def boundary_multiple_masses(primary_masses, N=50, fig_name=None):\n",
    "    \"\"\" plot the direct hit/disk boundary for an array of M1s\n",
    "\n",
    "    Parameters:\n",
    "    ----------\n",
    "    primary_masses: `np.array`, primary masses in Msun\n",
    "    N: `int`, resolution parameter\n",
    "    fig_name: `str`, optional, path where to save the plot\n",
    "    \"\"\"\n",
    "    fig = plt.figure()\n",
    "    gs = gridspec.GridSpec(120, 100)\n",
    "    ax = fig.add_subplot(gs[:,:])    \n",
    "    \n",
    "    mass_ratio = np.linspace(0.001, 1, N)\n",
    "    sep = np.linspace(0.1, 2000, N)\n",
    "\n",
    "    colors = plt.cm.viridis(np.linspace(0,1,len(primary_masses)))\n",
    "\n",
    "    for k, M1 in np.ndenumerate(primary_masses):\n",
    "        c = colors[np.argmin(np.absolute(M1-primary_masses))]\n",
    "        # reinitialize\n",
    "        direct_hit= -1.0*np.ones((N,N))\n",
    "        for i, q in np.ndenumerate(mass_ratio):\n",
    "            for j, a in np.ndenumerate(sep):\n",
    "                Rmin = Rmin_lubow_shu75(a, q*M1, M1)\n",
    "                if q*M1<=1.4:\n",
    "                    exp = 0.9\n",
    "                else:\n",
    "                    exp = 0.6\n",
    "                R2 = get_R_from_mass_radius_rel(q*M1, exp=exp)\n",
    "                if Rmin/R2 > 1:\n",
    "                    direct_hit[i,j] = 0 #False\n",
    "                else:\n",
    "                    direct_hit[i,j] = 1 #True\n",
    "        boundary = ax.contour(sep, mass_ratio, direct_hit, levels=[0.5], lw=3, colors=[c])  \n",
    "        ax.clabel(boundary, [0.5], fmt=f\"{M1:.0f} \"+r\"$M_\\odot$\", fontsize=30)\n",
    "\n",
    "    ax.set_ylim(0,1)\n",
    "    ax.set_xlim(min(sep), max(sep))\n",
    "    \n",
    "    ax.text(0.1,0.9, \"Direct impact\", fontsize=30, va=\"center\", ha=\"left\",\n",
    "            bbox=dict(facecolor='w', edgecolor='black', alpha=0.75,\n",
    "                      boxstyle='round,pad=0.1'), transform=ax.transAxes, zorder=10)\n",
    "    ax.text(0.9,0.1, \"Disk\", fontsize=30, va=\"center\", ha=\"right\",\n",
    "            bbox=dict(facecolor='w', edgecolor='black', alpha=0.75,\n",
    "                      boxstyle='round,pad=0.1'), transform=ax.transAxes, zorder=10)\n",
    "\n",
    "    ax.set_xlabel(r\"separation [$R_\\odot$]\")\n",
    "    ax.set_ylabel(r\"mass ratio $q=M_2/M_1$\")\n",
    "    ax.set_title(r\"variations with M1\", color='w')\n",
    "    if fig_name:\n",
    "        plt.savefig(fig_name)\n",
    "\n",
    "    "
   ]
  },
  {
   "cell_type": "code",
   "execution_count": null,
   "metadata": {},
   "outputs": [],
   "source": [
    "primary_masses = [2, 10, 20, 35, 50]\n",
    "boundary_multiple_masses(primary_masses, N=400, fig_name=\"fig_slides/disk_or_no_disk_multi_M1.pdf\")"
   ]
  }
 ],
 "metadata": {
  "kernelspec": {
   "argv": [
    "/home/math/Documents/Research/codes/anaconda3/bin/python",
    "-m",
    "ipykernel_launcher",
    "-f",
    "{connection_file}"
   ],
   "display_name": "Python 3",
   "env": null,
   "interrupt_mode": "signal",
   "language": "python",
   "metadata": null,
   "name": "python3"
  },
  "name": "disk_vs_direct_accretion.ipynb"
 },
 "nbformat": 4,
 "nbformat_minor": 4
}
